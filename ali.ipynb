print('Hello World!')
n=int(input("Enter the numner of reps."))
for i in range(1,n):
  l=[]
  n1=input('name\n')
  n2=int(input('ratings'))
  l.append([n1,n2])
for i in l:
  print(l[0],l[1])
